{
 "cells": [
  {
   "cell_type": "markdown",
   "metadata": {},
   "source": [
    "# Transformer for BPMN task recommendation"
   ]
  },
  {
   "cell_type": "code",
   "execution_count": null,
   "metadata": {},
   "outputs": [],
   "source": [
    "from trainclass import *\n",
    "\n",
    "\n",
    "hyperparams = TFormerParameters()\n",
    "# run \"python ./procbuilderlite.py\"\n",
    "dataset = TFormerDataLoader(\"./processes.txt\", hyperparams.max_seq_length) # 512\n",
    "tokenizer = TFormerTokenizer(\"./unique_params.txt\")\n",
    "tformer = def_tformer(hyperparams)"
   ]
  },
  {
   "cell_type": "code",
   "execution_count": null,
   "metadata": {},
   "outputs": [],
   "source": [
    "trainer = TFormerTrainer(tformer, hyperparams,  dataset, tokenizer)\n",
    "\n",
    "num_epochs = 2\n",
    "batch_size = 4\n",
    "trainer.train(num_epochs, batch_size)"
   ]
  }
 ],
 "metadata": {
  "language_info": {
   "name": "python"
  }
 },
 "nbformat": 4,
 "nbformat_minor": 2
}
